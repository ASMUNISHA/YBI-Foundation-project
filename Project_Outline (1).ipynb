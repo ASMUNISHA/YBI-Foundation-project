{
  "nbformat": 4,
  "nbformat_minor": 0,
  "metadata": {
    "colab": {
      "provenance": []
    },
    "kernelspec": {
      "name": "python3",
      "display_name": "Python 3"
    },
    "language_info": {
      "name": "python"
    }
  },
  "cells": [
    {
      "cell_type": "markdown",
      "source": [
        "Hand Written Digital Prediction-Classification Analysis\n"
      ],
      "metadata": {
        "id": "dqZ-nhxiganh"
      }
    },
    {
      "cell_type": "markdown",
      "source": [
        "-------------"
      ],
      "metadata": {
        "id": "gScHkw6jjrLo"
      }
    },
    {
      "cell_type": "markdown",
      "source": [
        "## **Objective**"
      ],
      "metadata": {
        "id": "Xns_rCdhh-vZ"
      }
    },
    {
      "cell_type": "markdown",
      "source": [
        "Handwritten digit recognition is an important application of machine learning, particularly in the field of computer vision. The task involves identifying handwritten digits from an image and classifying them into the corresponding numerical values*"
      ],
      "metadata": {
        "id": "9sPvnFM1iI9l"
      }
    },
    {
      "cell_type": "markdown",
      "source": [
        "## **Import Library**"
      ],
      "metadata": {
        "id": "r7GrZzX0iTlV"
      }
    },
    {
      "cell_type": "code",
      "source": [
        "import pandas as pd\n",
        "import numpy as np\n",
        "import matplotlib.pyplot as plt"
      ],
      "metadata": {
        "id": "UkK6NH9DiW-X"
      },
      "execution_count": 1,
      "outputs": []
    },
    {
      "cell_type": "markdown",
      "source": [
        "## **Import Data**"
      ],
      "metadata": {
        "id": "9lHPQj1XiOUc"
      }
    },
    {
      "cell_type": "code",
      "source": [
        "from sklearn.datasets import load_digits\n",
        "df=load_digits()\n",
        "_, axes=plt.subplots(nrows=1,ncols=4,figsize=(10,3))\n",
        "for ax,image,label in zip(axes,df.images,df.target):\n",
        "    ax.set_axis_off()\n",
        "    ax.imshow(image,cmap=plt.cm.gray_r,interpolation=\"nearest\")\n",
        "    ax.set_title(\"training:%i\"%label)"
      ],
      "metadata": {
        "id": "zcU1fdnGho6M",
        "colab": {
          "base_uri": "https://localhost:8080/",
          "height": 227
        },
        "outputId": "6d2b28cf-3dba-4e4e-f62d-d415020cfd9d"
      },
      "execution_count": 3,
      "outputs": [
        {
          "output_type": "display_data",
          "data": {
            "text/plain": [
              "<Figure size 1000x300 with 4 Axes>"
            ],
            "image/png": "[encoded data removed]"
          },
          "metadata": {}
        }
      ]
    },
    {
      "cell_type": "code",
      "source": [],
      "metadata": {
        "id": "kG15arusiZ8Z"
      },
      "execution_count": null,
      "outputs": []
    },
    {
      "cell_type": "markdown",
      "source": [
        "## **Data Preprocessing**"
      ],
      "metadata": {
        "id": "UqfyPOCYiiww"
      }
    },
    {
      "cell_type": "code",
      "source": [
        "df.images.shape"
      ],
      "metadata": {
        "id": "3cyr3fbGin0A",
        "colab": {
          "base_uri": "https://localhost:8080/"
        },
        "outputId": "197532af-b396-4743-f489-2d541f7562ac"
      },
      "execution_count": 4,
      "outputs": [
        {
          "output_type": "execute_result",
          "data": {
            "text/plain": [
              "(1797, 8, 8)"
            ]
          },
          "metadata": {},
          "execution_count": 4
        }
      ]
    },
    {
      "cell_type": "code",
      "source": [
        "df.images[0]"
      ],
      "metadata": {
        "colab": {
          "base_uri": "https://localhost:8080/"
        },
        "id": "UYdCpoQ3FZQK",
        "outputId": "68c67413-f2eb-48f5-9161-5a08c880bbca"
      },
      "execution_count": 5,
      "outputs": [
        {
          "output_type": "execute_result",
          "data": {
            "text/plain": [
              "array([[ 0.,  0.,  5., 13.,  9.,  1.,  0.,  0.],\n",
              "       [ 0.,  0., 13., 15., 10., 15.,  5.,  0.],\n",
              "       [ 0.,  3., 15.,  2.,  0., 11.,  8.,  0.],\n",
              "       [ 0.,  4., 12.,  0.,  0.,  8.,  8.,  0.],\n",
              "       [ 0.,  5.,  8.,  0.,  0.,  9.,  8.,  0.],\n",
              "       [ 0.,  4., 11.,  0.,  1., 12.,  7.,  0.],\n",
              "       [ 0.,  2., 14.,  5., 10., 12.,  0.,  0.],\n",
              "       [ 0.,  0.,  6., 13., 10.,  0.,  0.,  0.]])"
            ]
          },
          "metadata": {},
          "execution_count": 5
        }
      ]
    },
    {
      "cell_type": "code",
      "source": [
        "df.images[0].shape"
      ],
      "metadata": {
        "colab": {
          "base_uri": "https://localhost:8080/"
        },
        "id": "E1hDztS5Feot",
        "outputId": "ec0fbfe4-f143-4b09-afe5-9242f51b5447"
      },
      "execution_count": 6,
      "outputs": [
        {
          "output_type": "execute_result",
          "data": {
            "text/plain": [
              "(8, 8)"
            ]
          },
          "metadata": {},
          "execution_count": 6
        }
      ]
    },
    {
      "cell_type": "code",
      "source": [
        "len(df.images)\n",
        ""
      ],
      "metadata": {
        "colab": {
          "base_uri": "https://localhost:8080/"
        },
        "id": "bMWsPJw4Fh0O",
        "outputId": "74444a92-1e71-41b8-af94-e275c2e6a70b"
      },
      "execution_count": 7,
      "outputs": [
        {
          "output_type": "execute_result",
          "data": {
            "text/plain": [
              "1797"
            ]
          },
          "metadata": {},
          "execution_count": 7
        }
      ]
    },
    {
      "cell_type": "code",
      "source": [
        "n_samples=len(df.images)\n",
        "data=df.images.reshape((n_samples,-1))"
      ],
      "metadata": {
        "id": "Zcs-iDwrFlM7"
      },
      "execution_count": 8,
      "outputs": []
    },
    {
      "cell_type": "code",
      "source": [
        "data[0]"
      ],
      "metadata": {
        "colab": {
          "base_uri": "https://localhost:8080/"
        },
        "id": "K_7qghlUFox7",
        "outputId": "0cf9415b-0495-492c-85ba-7480a64b8a97"
      },
      "execution_count": 9,
      "outputs": [
        {
          "output_type": "execute_result",
          "data": {
            "text/plain": [
              "array([ 0.,  0.,  5., 13.,  9.,  1.,  0.,  0.,  0.,  0., 13., 15., 10.,\n",
              "       15.,  5.,  0.,  0.,  3., 15.,  2.,  0., 11.,  8.,  0.,  0.,  4.,\n",
              "       12.,  0.,  0.,  8.,  8.,  0.,  0.,  5.,  8.,  0.,  0.,  9.,  8.,\n",
              "        0.,  0.,  4., 11.,  0.,  1., 12.,  7.,  0.,  0.,  2., 14.,  5.,\n",
              "       10., 12.,  0.,  0.,  0.,  0.,  6., 13., 10.,  0.,  0.,  0.])"
            ]
          },
          "metadata": {},
          "execution_count": 9
        }
      ]
    },
    {
      "cell_type": "code",
      "source": [
        "data[0].shape"
      ],
      "metadata": {
        "colab": {
          "base_uri": "https://localhost:8080/"
        },
        "id": "WDmBiL0KFsoj",
        "outputId": "d860d515-6e66-430c-8bef-be9526c0f99c"
      },
      "execution_count": 10,
      "outputs": [
        {
          "output_type": "execute_result",
          "data": {
            "text/plain": [
              "(64,)"
            ]
          },
          "metadata": {},
          "execution_count": 10
        }
      ]
    },
    {
      "cell_type": "code",
      "source": [
        "data.shape"
      ],
      "metadata": {
        "colab": {
          "base_uri": "https://localhost:8080/"
        },
        "id": "z8ezdt3eFxOd",
        "outputId": "d10c5dbd-a26f-4fec-ff35-13007cca28bc"
      },
      "execution_count": 11,
      "outputs": [
        {
          "output_type": "execute_result",
          "data": {
            "text/plain": [
              "(1797, 64)"
            ]
          },
          "metadata": {},
          "execution_count": 11
        }
      ]
    },
    {
      "cell_type": "markdown",
      "source": [
        "Scaling image data"
      ],
      "metadata": {
        "id": "cIhyseNria7W"
      }
    },
    {
      "cell_type": "code",
      "source": [
        "data.max()"
      ],
      "metadata": {
        "id": "Toq58wpkjCw7",
        "colab": {
          "base_uri": "https://localhost:8080/"
        },
        "outputId": "781006d9-fe79-4d2c-ab96-edf575f51d40"
      },
      "execution_count": 12,
      "outputs": [
        {
          "output_type": "execute_result",
          "data": {
            "text/plain": [
              "16.0"
            ]
          },
          "metadata": {},
          "execution_count": 12
        }
      ]
    },
    {
      "cell_type": "code",
      "source": [
        "data=data/16\n",
        "data.min()"
      ],
      "metadata": {
        "colab": {
          "base_uri": "https://localhost:8080/"
        },
        "id": "VEHGYsm-GJMI",
        "outputId": "d9086c06-3083-4d2f-b34d-1b50f8847013"
      },
      "execution_count": 13,
      "outputs": [
        {
          "output_type": "execute_result",
          "data": {
            "text/plain": [
              "0.0"
            ]
          },
          "metadata": {},
          "execution_count": 13
        }
      ]
    },
    {
      "cell_type": "code",
      "source": [
        "data.max()"
      ],
      "metadata": {
        "colab": {
          "base_uri": "https://localhost:8080/"
        },
        "id": "myit3F_0GMRI",
        "outputId": "86229ae5-1c7d-4c7a-e137-41e061583386"
      },
      "execution_count": 14,
      "outputs": [
        {
          "output_type": "execute_result",
          "data": {
            "text/plain": [
              "1.0"
            ]
          },
          "metadata": {},
          "execution_count": 14
        }
      ]
    },
    {
      "cell_type": "code",
      "source": [
        "data[0]"
      ],
      "metadata": {
        "colab": {
          "base_uri": "https://localhost:8080/"
        },
        "id": "VCEeYc0PGPvL",
        "outputId": "bc191dcd-e8e6-44ce-e2ec-8fb90519d1ff"
      },
      "execution_count": 15,
      "outputs": [
        {
          "output_type": "execute_result",
          "data": {
            "text/plain": [
              "array([0.    , 0.    , 0.3125, 0.8125, 0.5625, 0.0625, 0.    , 0.    ,\n",
              "       0.    , 0.    , 0.8125, 0.9375, 0.625 , 0.9375, 0.3125, 0.    ,\n",
              "       0.    , 0.1875, 0.9375, 0.125 , 0.    , 0.6875, 0.5   , 0.    ,\n",
              "       0.    , 0.25  , 0.75  , 0.    , 0.    , 0.5   , 0.5   , 0.    ,\n",
              "       0.    , 0.3125, 0.5   , 0.    , 0.    , 0.5625, 0.5   , 0.    ,\n",
              "       0.    , 0.25  , 0.6875, 0.    , 0.0625, 0.75  , 0.4375, 0.    ,\n",
              "       0.    , 0.125 , 0.875 , 0.3125, 0.625 , 0.75  , 0.    , 0.    ,\n",
              "       0.    , 0.    , 0.375 , 0.8125, 0.625 , 0.    , 0.    , 0.    ])"
            ]
          },
          "metadata": {},
          "execution_count": 15
        }
      ]
    },
    {
      "cell_type": "markdown",
      "source": [
        "Train Test split Data"
      ],
      "metadata": {
        "id": "vhAwWfG0jFun"
      }
    },
    {
      "cell_type": "code",
      "source": [
        "from sklearn.model_selection import train_test_split\n",
        "x_train ,x_test,y_train,y_test =train_test_split(data, df.target, test_size=0.3)\n",
        "x_train.shape,x_test.shape,y_train.shape,y_test.shape\n",
        ""
      ],
      "metadata": {
        "id": "lND3jJj_jhx4",
        "colab": {
          "base_uri": "https://localhost:8080/"
        },
        "outputId": "11e899b2-0a9f-431b-9a00-ac337f6b6e0a"
      },
      "execution_count": 18,
      "outputs": [
        {
          "output_type": "execute_result",
          "data": {
            "text/plain": [
              "((1257, 64), (540, 64), (1257,), (540,))"
            ]
          },
          "metadata": {},
          "execution_count": 18
        }
      ]
    },
    {
      "cell_type": "markdown",
      "source": [
        "Random Forest Model"
      ],
      "metadata": {
        "id": "8AzwG7oLjiQI"
      }
    },
    {
      "cell_type": "code",
      "source": [
        "from sklearn.ensemble import RandomForestClassifier\n",
        "\n",
        "\n",
        "rf=RandomForestClassifier()\n",
        "\n",
        "\n",
        "rf.fit(x_train,y_train)"
      ],
      "metadata": {
        "id": "JLebGzDJjknA",
        "colab": {
          "base_uri": "https://localhost:8080/",
          "height": 75
        },
        "outputId": "766fe03d-51fd-47d8-d2da-2f15655a6553"
      },
      "execution_count": 20,
      "outputs": [
        {
          "output_type": "execute_result",
          "data": {
            "text/plain": [
              "RandomForestClassifier()"
            ],
            "text/html": [
              "<style>#sk-container-id-2 {color: black;background-color: white;}#sk-container-id-2 pre{padding: 0;}#sk-container-id-2 div.sk-toggleable {background-color: white;}#sk-container-id-2 label.sk-toggleable__label {cursor: pointer;display: block;width: 100%;margin-bottom: 0;padding: 0.3em;box-sizing: border-box;text-align: center;}#sk-container-id-2 label.sk-toggleable__label-arrow:before {content: \"▸\";float: left;margin-right: 0.25em;color: #696969;}#sk-container-id-2 label.sk-toggleable__label-arrow:hover:before {color: black;}#sk-container-id-2 div.sk-estimator:hover label.sk-toggleable__label-arrow:before {color: black;}#sk-container-id-2 div.sk-toggleable__content {max-height: 0;max-width: 0;overflow: hidden;text-align: left;background-color: #f0f8ff;}#sk-container-id-2 div.sk-toggleable__content pre {margin: 0.2em;color: black;border-radius: 0.25em;background-color: #f0f8ff;}#sk-container-id-2 input.sk-toggleable__control:checked~div.sk-toggleable__content {max-height: 200px;max-width: 100%;overflow: auto;}#sk-container-id-2 input.sk-toggleable__control:checked~label.sk-toggleable__label-arrow:before {content: \"▾\";}#sk-container-id-2 div.sk-estimator input.sk-toggleable__control:checked~label.sk-toggleable__label {background-color: #d4ebff;}#sk-container-id-2 div.sk-label input.sk-toggleable__control:checked~label.sk-toggleable__label {background-color: #d4ebff;}#sk-container-id-2 input.sk-hidden--visually {border: 0;clip: rect(1px 1px 1px 1px);clip: rect(1px, 1px, 1px, 1px);height: 1px;margin: -1px;overflow: hidden;padding: 0;position: absolute;width: 1px;}#sk-container-id-2 div.sk-estimator {font-family: monospace;background-color: #f0f8ff;border: 1px dotted black;border-radius: 0.25em;box-sizing: border-box;margin-bottom: 0.5em;}#sk-container-id-2 div.sk-estimator:hover {background-color: #d4ebff;}#sk-container-id-2 div.sk-parallel-item::after {content: \"\";width: 100%;border-bottom: 1px solid gray;flex-grow: 1;}#sk-container-id-2 div.sk-label:hover label.sk-toggleable__label {background-color: #d4ebff;}#sk-container-id-2 div.sk-serial::before {content: \"\";position: absolute;border-left: 1px solid gray;box-sizing: border-box;top: 0;bottom: 0;left: 50%;z-index: 0;}#sk-container-id-2 div.sk-serial {display: flex;flex-direction: column;align-items: center;background-color: white;padding-right: 0.2em;padding-left: 0.2em;position: relative;}#sk-container-id-2 div.sk-item {position: relative;z-index: 1;}#sk-container-id-2 div.sk-parallel {display: flex;align-items: stretch;justify-content: center;background-color: white;position: relative;}#sk-container-id-2 div.sk-item::before, #sk-container-id-2 div.sk-parallel-item::before {content: \"\";position: absolute;border-left: 1px solid gray;box-sizing: border-box;top: 0;bottom: 0;left: 50%;z-index: -1;}#sk-container-id-2 div.sk-parallel-item {display: flex;flex-direction: column;z-index: 1;position: relative;background-color: white;}#sk-container-id-2 div.sk-parallel-item:first-child::after {align-self: flex-end;width: 50%;}#sk-container-id-2 div.sk-parallel-item:last-child::after {align-self: flex-start;width: 50%;}#sk-container-id-2 div.sk-parallel-item:only-child::after {width: 0;}#sk-container-id-2 div.sk-dashed-wrapped {border: 1px dashed gray;margin: 0 0.4em 0.5em 0.4em;box-sizing: border-box;padding-bottom: 0.4em;background-color: white;}#sk-container-id-2 div.sk-label label {font-family: monospace;font-weight: bold;display: inline-block;line-height: 1.2em;}#sk-container-id-2 div.sk-label-container {text-align: center;}#sk-container-id-2 div.sk-container {/* jupyter's `normalize.less` sets `[hidden] { display: none; }` but bootstrap.min.css set `[hidden] { display: none !important; }` so we also need the `!important` here to be able to override the default hidden behavior on the sphinx rendered scikit-learn.org. See: https://github.com/scikit-learn/scikit-learn/issues/21755 */display: inline-block !important;position: relative;}#sk-container-id-2 div.sk-text-repr-fallback {display: none;}</style><div id=\"sk-container-id-2\" class=\"sk-top-container\"><div class=\"sk-text-repr-fallback\"><pre>RandomForestClassifier()</pre><b>In a Jupyter environment, please rerun this cell to show the HTML representation or trust the notebook. <br />On GitHub, the HTML representation is unable to render, please try loading this page with nbviewer.org.</b></div><div class=\"sk-container\" hidden><div class=\"sk-item\"><div class=\"sk-estimator sk-toggleable\"><input class=\"sk-toggleable__control sk-hidden--visually\" id=\"sk-estimator-id-2\" type=\"checkbox\" checked><label for=\"sk-estimator-id-2\" class=\"sk-toggleable__label sk-toggleable__label-arrow\">RandomForestClassifier</label><div class=\"sk-toggleable__content\"><pre>RandomForestClassifier()</pre></div></div></div></div></div>"
            ]
          },
          "metadata": {},
          "execution_count": 20
        }
      ]
    },
    {
      "cell_type": "markdown",
      "source": [
        "Predict Test Data"
      ],
      "metadata": {
        "id": "SBo38CJZjlEX"
      }
    },
    {
      "cell_type": "code",
      "source": [
        "y_pred=rf.predict(x_test)\n",
        "y_pred"
      ],
      "metadata": {
        "colab": {
          "base_uri": "https://localhost:8080/"
        },
        "id": "cwOnr1qAHROP",
        "outputId": "79c21778-f80c-4349-c8f2-7672dd9b2312"
      },
      "execution_count": 22,
      "outputs": [
        {
          "output_type": "execute_result",
          "data": {
            "text/plain": [
              "array([1, 9, 0, 5, 7, 4, 2, 2, 6, 3, 8, 8, 5, 4, 0, 5, 8, 2, 7, 8, 6, 8,\n",
              "       3, 4, 6, 0, 9, 4, 0, 8, 5, 9, 5, 8, 7, 6, 5, 4, 3, 5, 4, 9, 7, 6,\n",
              "       7, 4, 9, 0, 6, 4, 6, 9, 1, 9, 1, 4, 3, 1, 9, 8, 9, 2, 7, 7, 0, 0,\n",
              "       0, 4, 4, 5, 7, 2, 9, 6, 6, 5, 9, 4, 8, 1, 8, 1, 4, 0, 0, 2, 7, 2,\n",
              "       6, 1, 6, 6, 0, 7, 8, 2, 8, 8, 4, 8, 2, 8, 2, 0, 6, 5, 1, 4, 1, 3,\n",
              "       3, 9, 1, 8, 1, 1, 7, 6, 6, 6, 0, 8, 2, 6, 3, 6, 0, 9, 5, 0, 4, 4,\n",
              "       3, 0, 4, 1, 8, 7, 0, 7, 0, 1, 2, 8, 5, 9, 2, 1, 5, 5, 7, 4, 3, 3,\n",
              "       7, 7, 4, 0, 1, 3, 9, 6, 4, 7, 1, 2, 1, 7, 6, 1, 0, 7, 1, 0, 6, 7,\n",
              "       5, 3, 7, 0, 3, 5, 5, 1, 6, 5, 7, 5, 7, 3, 3, 4, 0, 4, 3, 8, 5, 1,\n",
              "       0, 9, 0, 2, 6, 7, 7, 1, 3, 4, 1, 1, 6, 6, 0, 9, 7, 4, 5, 2, 0, 7,\n",
              "       5, 0, 6, 3, 0, 4, 7, 0, 9, 9, 5, 0, 0, 4, 3, 4, 7, 6, 3, 1, 2, 5,\n",
              "       6, 1, 7, 1, 5, 6, 0, 5, 7, 3, 1, 1, 5, 3, 8, 4, 1, 5, 3, 3, 8, 9,\n",
              "       1, 8, 0, 6, 4, 1, 4, 1, 6, 3, 9, 7, 7, 5, 1, 7, 1, 1, 5, 4, 8, 1,\n",
              "       1, 8, 4, 7, 7, 1, 5, 3, 1, 0, 9, 1, 0, 1, 4, 0, 6, 6, 7, 9, 1, 9,\n",
              "       6, 8, 1, 8, 0, 2, 1, 7, 9, 4, 9, 4, 2, 7, 6, 2, 9, 4, 6, 5, 0, 4,\n",
              "       1, 3, 6, 1, 0, 9, 8, 0, 7, 7, 6, 9, 5, 3, 6, 0, 3, 1, 4, 7, 3, 7,\n",
              "       4, 8, 9, 3, 7, 6, 2, 1, 0, 1, 3, 8, 2, 3, 1, 2, 8, 9, 1, 1, 5, 2,\n",
              "       4, 0, 7, 5, 5, 3, 5, 5, 1, 3, 9, 8, 8, 2, 7, 7, 6, 0, 0, 4, 7, 2,\n",
              "       8, 6, 7, 8, 2, 4, 6, 0, 2, 4, 5, 7, 3, 4, 2, 8, 3, 4, 6, 8, 3, 8,\n",
              "       6, 8, 6, 3, 4, 3, 9, 7, 1, 4, 6, 1, 0, 6, 1, 2, 5, 9, 9, 6, 4, 7,\n",
              "       6, 2, 1, 8, 8, 8, 2, 9, 1, 8, 5, 2, 3, 9, 7, 3, 6, 9, 2, 1, 4, 7,\n",
              "       5, 2, 5, 1, 4, 3, 6, 0, 7, 5, 3, 3, 5, 5, 2, 0, 9, 2, 4, 5, 6, 6,\n",
              "       6, 4, 7, 8, 6, 5, 6, 7, 9, 4, 7, 8, 8, 3, 2, 5, 1, 2, 4, 4, 7, 4,\n",
              "       8, 5, 6, 1, 7, 2, 6, 8, 3, 5, 9, 9, 9, 1, 6, 8, 8, 4, 0, 7, 7, 3,\n",
              "       6, 1, 8, 0, 8, 4, 6, 5, 5, 8, 3, 3])"
            ]
          },
          "metadata": {},
          "execution_count": 22
        }
      ]
    },
    {
      "cell_type": "markdown",
      "source": [
        "Model Accuracy"
      ],
      "metadata": {
        "id": "Ybi8FR9Kjv00"
      }
    },
    {
      "cell_type": "code",
      "source": [
        "from sklearn.metrics import confusion_matrix,classification_report\n",
        "confusion_matrix(y_test,y_pred)"
      ],
      "metadata": {
        "colab": {
          "base_uri": "https://localhost:8080/"
        },
        "id": "FCmrHwRrHhmQ",
        "outputId": "9857c7f7-a773-43d0-bbbf-1b6f55e7e3f0"
      },
      "execution_count": 23,
      "outputs": [
        {
          "output_type": "execute_result",
          "data": {
            "text/plain": [
              "array([[51,  0,  0,  0,  0,  0,  0,  0,  0,  0],\n",
              "       [ 0, 64,  0,  0,  0,  1,  0,  0,  0,  0],\n",
              "       [ 1,  0, 40,  0,  0,  0,  0,  0,  0,  0],\n",
              "       [ 0,  0,  0, 48,  0,  0,  0,  0,  2,  0],\n",
              "       [ 0,  0,  0,  0, 56,  0,  0,  0,  0,  0],\n",
              "       [ 0,  0,  0,  1,  1, 50,  1,  0,  0,  2],\n",
              "       [ 0,  0,  0,  0,  1,  1, 61,  0,  0,  0],\n",
              "       [ 0,  0,  0,  0,  0,  0,  0, 62,  0,  0],\n",
              "       [ 0,  2,  0,  0,  1,  1,  0,  0, 50,  0],\n",
              "       [ 0,  0,  0,  1,  0,  0,  0,  0,  1, 41]])"
            ]
          },
          "metadata": {},
          "execution_count": 23
        }
      ]
    },
    {
      "cell_type": "code",
      "source": [
        "print(classification_report(y_test,y_pred))"
      ],
      "metadata": {
        "colab": {
          "base_uri": "https://localhost:8080/"
        },
        "id": "wJDQA6ZoHoTW",
        "outputId": "ba71c2ef-3ce5-4e0f-ebee-00e06dc5ad86"
      },
      "execution_count": 24,
      "outputs": [
        {
          "output_type": "stream",
          "name": "stdout",
          "text": [
            "              precision    recall  f1-score   support\n",
            "\n",
            "           0       0.98      1.00      0.99        51\n",
            "           1       0.97      0.98      0.98        65\n",
            "           2       1.00      0.98      0.99        41\n",
            "           3       0.96      0.96      0.96        50\n",
            "           4       0.95      1.00      0.97        56\n",
            "           5       0.94      0.91      0.93        55\n",
            "           6       0.98      0.97      0.98        63\n",
            "           7       1.00      1.00      1.00        62\n",
            "           8       0.94      0.93      0.93        54\n",
            "           9       0.95      0.95      0.95        43\n",
            "\n",
            "    accuracy                           0.97       540\n",
            "   macro avg       0.97      0.97      0.97       540\n",
            "weighted avg       0.97      0.97      0.97       540\n",
            "\n"
          ]
        }
      ]
    }
  ]
}